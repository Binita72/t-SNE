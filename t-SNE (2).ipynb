{
 "cells": [
  {
   "cell_type": "code",
   "execution_count": 2,
   "metadata": {},
   "outputs": [
    {
     "name": "stdout",
     "output_type": "stream",
     "text": [
      "Collecting bioinfokit\n",
      "  Downloading bioinfokit-0.9.8.tar.gz (53 kB)\n",
      "Requirement already satisfied: pandas in c:\\users\\binita mandal\\anaconda3\\lib\\site-packages (from bioinfokit) (1.0.5)\n",
      "Requirement already satisfied: numpy in c:\\users\\binita mandal\\anaconda3\\lib\\site-packages (from bioinfokit) (1.18.5)\n",
      "Requirement already satisfied: matplotlib in c:\\users\\binita mandal\\anaconda3\\lib\\site-packages (from bioinfokit) (3.2.2)\n",
      "Requirement already satisfied: scipy in c:\\users\\binita mandal\\anaconda3\\lib\\site-packages (from bioinfokit) (1.5.0)\n",
      "Requirement already satisfied: scikit-learn in c:\\users\\binita mandal\\anaconda3\\lib\\site-packages (from bioinfokit) (0.23.1)\n",
      "Requirement already satisfied: seaborn in c:\\users\\binita mandal\\anaconda3\\lib\\site-packages (from bioinfokit) (0.10.1)\n",
      "Collecting matplotlib_venn\n",
      "  Downloading matplotlib-venn-0.11.5.zip (40 kB)\n",
      "Collecting tabulate\n",
      "  Downloading tabulate-0.8.7-py3-none-any.whl (24 kB)\n",
      "Requirement already satisfied: statsmodels in c:\\users\\binita mandal\\anaconda3\\lib\\site-packages (from bioinfokit) (0.11.1)\n",
      "Collecting textwrap3\n",
      "  Downloading textwrap3-0.9.2-py2.py3-none-any.whl (12 kB)\n",
      "Collecting adjustText\n",
      "  Downloading adjustText-0.7.3.tar.gz (7.5 kB)\n",
      "Requirement already satisfied: pytz>=2017.2 in c:\\users\\binita mandal\\anaconda3\\lib\\site-packages (from pandas->bioinfokit) (2020.1)\n",
      "Requirement already satisfied: python-dateutil>=2.6.1 in c:\\users\\binita mandal\\anaconda3\\lib\\site-packages (from pandas->bioinfokit) (2.8.1)\n",
      "Requirement already satisfied: kiwisolver>=1.0.1 in c:\\users\\binita mandal\\anaconda3\\lib\\site-packages (from matplotlib->bioinfokit) (1.2.0)\n",
      "Requirement already satisfied: cycler>=0.10 in c:\\users\\binita mandal\\anaconda3\\lib\\site-packages (from matplotlib->bioinfokit) (0.10.0)\n",
      "Requirement already satisfied: pyparsing!=2.0.4,!=2.1.2,!=2.1.6,>=2.0.1 in c:\\users\\binita mandal\\anaconda3\\lib\\site-packages (from matplotlib->bioinfokit) (2.4.7)\n",
      "Requirement already satisfied: threadpoolctl>=2.0.0 in c:\\users\\binita mandal\\anaconda3\\lib\\site-packages (from scikit-learn->bioinfokit) (2.1.0)\n",
      "Requirement already satisfied: joblib>=0.11 in c:\\users\\binita mandal\\anaconda3\\lib\\site-packages (from scikit-learn->bioinfokit) (0.16.0)\n",
      "Requirement already satisfied: patsy>=0.5 in c:\\users\\binita mandal\\anaconda3\\lib\\site-packages (from statsmodels->bioinfokit) (0.5.1)\n",
      "Requirement already satisfied: six>=1.5 in c:\\users\\binita mandal\\anaconda3\\lib\\site-packages (from python-dateutil>=2.6.1->pandas->bioinfokit) (1.15.0)\n",
      "Building wheels for collected packages: bioinfokit, matplotlib-venn, adjustText\n",
      "  Building wheel for bioinfokit (setup.py): started\n",
      "  Building wheel for bioinfokit (setup.py): finished with status 'done'\n",
      "  Created wheel for bioinfokit: filename=bioinfokit-0.9.8-py3-none-any.whl size=36191 sha256=d3e611560b200374a0ccaf018997429c5562c56a9fbd715298febb0470ded607\n",
      "  Stored in directory: c:\\users\\binita mandal\\appdata\\local\\pip\\cache\\wheels\\7c\\81\\5d\\50d0fc1e0b93509fec41dcb5d2482695ed5c52cc960e51c87c\n",
      "  Building wheel for matplotlib-venn (setup.py): started\n",
      "  Building wheel for matplotlib-venn (setup.py): finished with status 'done'\n",
      "  Created wheel for matplotlib-venn: filename=matplotlib_venn-0.11.5-py3-none-any.whl size=32399 sha256=6089f2c41deb79cd91abccfdb76d5a96ef2edbc275a5c2730972f6db0d15ec92\n",
      "  Stored in directory: c:\\users\\binita mandal\\appdata\\local\\pip\\cache\\wheels\\86\\fa\\e0\\aaeb803cef64c8857275d094fdc8ef93e0106fe9970f285e66\n",
      "  Building wheel for adjustText (setup.py): started\n",
      "  Building wheel for adjustText (setup.py): finished with status 'done'\n",
      "  Created wheel for adjustText: filename=adjustText-0.7.3-py3-none-any.whl size=7104 sha256=de08d0615322f213cd9ccb9dad12697e362fe0d544bfa035cb2b98d3b22920b3\n",
      "  Stored in directory: c:\\users\\binita mandal\\appdata\\local\\pip\\cache\\wheels\\06\\b2\\e0\\b239bd2c0ff89b98c4f0c86a63e7059f38a8dfaf6df2641c63\n",
      "Successfully built bioinfokit matplotlib-venn adjustText\n",
      "Installing collected packages: matplotlib-venn, tabulate, textwrap3, adjustText, bioinfokit\n",
      "Successfully installed adjustText-0.7.3 bioinfokit-0.9.8 matplotlib-venn-0.11.5 tabulate-0.8.7 textwrap3-0.9.2\n"
     ]
    }
   ],
   "source": [
    "!pip install bioinfokit"
   ]
  },
  {
   "cell_type": "code",
   "execution_count": 3,
   "metadata": {},
   "outputs": [],
   "source": [
    "from pandas import read_csv\n",
    "import pandas as pd\n",
    "from sklearn.manifold import TSNE\n",
    "from bioinfokit.visuz import cluster"
   ]
  },
  {
   "cell_type": "code",
   "execution_count": 6,
   "metadata": {},
   "outputs": [],
   "source": [
    "# load data\n",
    "dataframe = pd.read_csv(r\"C:\\Users\\Binita Mandal\\Desktop\\finity\\homework\\TSNE_data.csv\")"
   ]
  },
  {
   "cell_type": "code",
   "execution_count": 7,
   "metadata": {},
   "outputs": [],
   "source": [
    "# Split-out validation dataset\n",
    "array = dataframe.values\n",
    "# separate array into input and output components\n",
    "X = array[:,1:]\n",
    "Y = array[:,0]"
   ]
  },
  {
   "cell_type": "code",
   "execution_count": 8,
   "metadata": {},
   "outputs": [],
   "source": [
    "#TSNE visualization\n",
    "from bioinfokit.visuz import cluster\n",
    "\n",
    "data_tsne = TSNE(n_components=2).fit_transform(X)\n",
    "cluster.tsneplot(score=data_tsne)"
   ]
  },
  {
   "cell_type": "code",
   "execution_count": 9,
   "metadata": {},
   "outputs": [],
   "source": [
    "# get a list of categories\n",
    "color_class = dataframe['diagnosis'].to_numpy()\n",
    "cluster.tsneplot(score=data_tsne, colorlist=color_class, legendpos='upper right',legendanchor=(1.15, 1))\n",
    "\n",
    "#Plot will be stored in the default directory"
   ]
  },
  {
   "cell_type": "code",
   "execution_count": 10,
   "metadata": {},
   "outputs": [
    {
     "data": {
      "text/plain": [
       "array([[ 35.175327 ,  -7.159053 ],\n",
       "       [ 32.532433 ,  -6.3670273],\n",
       "       [ 29.149542 ,  -9.759273 ],\n",
       "       ...,\n",
       "       [ 14.9464245, -20.31706  ],\n",
       "       [ 31.743382 ,  -8.431415 ],\n",
       "       [-28.60696  ,  39.648457 ]], dtype=float32)"
      ]
     },
     "execution_count": 10,
     "metadata": {},
     "output_type": "execute_result"
    }
   ],
   "source": [
    "data_tsne"
   ]
  },
  {
   "cell_type": "code",
   "execution_count": null,
   "metadata": {},
   "outputs": [],
   "source": []
  }
 ],
 "metadata": {
  "kernelspec": {
   "display_name": "Python 3",
   "language": "python",
   "name": "python3"
  },
  "language_info": {
   "codemirror_mode": {
    "name": "ipython",
    "version": 3
   },
   "file_extension": ".py",
   "mimetype": "text/x-python",
   "name": "python",
   "nbconvert_exporter": "python",
   "pygments_lexer": "ipython3",
   "version": "3.8.3"
  }
 },
 "nbformat": 4,
 "nbformat_minor": 2
}
